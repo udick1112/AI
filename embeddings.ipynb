{
  "nbformat": 4,
  "nbformat_minor": 0,
  "metadata": {
    "colab": {
      "provenance": []
    },
    "kernelspec": {
      "name": "python3",
      "display_name": "Python 3"
    },
    "language_info": {
      "name": "python"
    }
  },
  "cells": [
    {
      "cell_type": "code",
      "execution_count": null,
      "metadata": {
        "id": "FBLK4bWYLllE"
      },
      "outputs": [],
      "source": [
        "\"\"\"利用Open AI embedding技術進行自然語言處理應用\n",
        "本程式利用Open AI 提供的embedding函式，將amazon食物評價資料集，轉化成大型語言模型的embedding向量\n",
        "轉化後的amazon食物評價資料集embedding向量，可以進行查詢、叢集、分類...等應用\n",
        "安裝需要的套件\n",
        "openai\n",
        "transformers\n",
        "tiktoken\n",
        "\"\"\"\n",
        "!pip install openai -U\n",
        "!pip install transformers -U\n",
        "!pip install tiktoken"
      ]
    },
    {
      "cell_type": "code",
      "source": [
        "#引入需要的套件\n",
        "#這邊使用openai的get_embedding將文字資料轉成文字嵌入\n",
        "import pandas as pd\n",
        "import tiktoken\n",
        "\n",
        "from openai.embeddings_utils import get_embedding\n",
        "import openai\n",
        "     "
      ],
      "metadata": {
        "id": "WosXxnwRLpGF"
      },
      "execution_count": null,
      "outputs": []
    },
    {
      "cell_type": "code",
      "source": [
        "\"\"\"選擇要使用的embedding模型\n",
        "使用最新版的ada\n",
        "選擇encoding的方式，就是tokenizer\n",
        "將最大token值設為8000，預設最大值為8191\n",
        "\"\"\"# embedding model parameters\n",
        "embedding_model = \"text-embedding-ada-002\"\n",
        "embedding_encoding = \"cl100k_base\"  # this the encoding for text-embedding-ada-002\n",
        "max_tokens = 8000  # the maximum for text-embedding-ada-002 is 8191"
      ],
      "metadata": {
        "id": "gWGdwZVbLpJ5"
      },
      "execution_count": null,
      "outputs": []
    },
    {
      "cell_type": "code",
      "source": [
        "\"\"\"上傳資料並且合併文字和評論\n",
        "上傳amazon food review，資料量太大，所以只使用前1000筆。\n",
        "將資料從csv讀入df中，並且只要固定欄位\n",
        "使用dropna將空白欄位移除\n",
        "新增一個欄位，將\"Sumarry\"和\"Text\"合併，稱之為\"Combined\"\"\"\"\n",
        "!wget https://github.com/shhuangmust/AI/raw/111-2/fine_food_reviews_1k.csv"
      ],
      "metadata": {
        "id": "-WxMbY_MLpMW"
      },
      "execution_count": null,
      "outputs": []
    },
    {
      "cell_type": "code",
      "source": [
        "input_datapath = \"fine_food_reviews_1k.csv\"  # to save space, we provide a pre-filtered dataset\n",
        "df = pd.read_csv(input_datapath, index_col=0)\n",
        "df = df[[\"Time\", \"ProductId\", \"UserId\", \"Score\", \"Summary\", \"Text\"]]\n",
        "df = df.dropna()\n",
        "df[\"combined\"] = (\n",
        "    \"Title: \" + df.Summary.str.strip() + \"; Content: \" + df.Text.str.strip()\n",
        ")\n",
        "df.head(2)"
      ],
      "metadata": {
        "id": "l7MqC5QhLpOa"
      },
      "execution_count": null,
      "outputs": []
    },
    {
      "cell_type": "code",
      "source": [
        "\"\"\"只取得1000個，並且將太長的文字去除\n",
        "取得最新的前1000個\n",
        "將較舊的drop掉\n",
        "使用tiktoken將文字encoding成需要的何式\n",
        "trncate掉太長的\"\"\"\n",
        "\n",
        "# subsample to 1k most recent reviews and remove samples that are too long\n",
        "top_n = 1000\n",
        "df = df.sort_values(\"Time\").tail(top_n * 2)  # first cut to first 2k entries, assuming less than half will be filtered out\n",
        "df.drop(\"Time\", axis=1, inplace=True)\n",
        "\n",
        "encoding = tiktoken.get_encoding(embedding_encoding)\n",
        "\n",
        "# omit reviews that are too long to embed\n",
        "df[\"n_tokens\"] = df.combined.apply(lambda x: len(encoding.encode(x)))\n",
        "df = df[df.n_tokens <= max_tokens].tail(top_n)\n",
        "len(df)\n",
        "     "
      ],
      "metadata": {
        "id": "4Qumv-N3LpQh"
      },
      "execution_count": null,
      "outputs": []
    },
    {
      "cell_type": "code",
      "source": [
        "\"\"\"將文字轉成embedding\n",
        "使用get_embedding方法\n",
        "這個動作會要花個十分鐘\n",
        "如果沒有api key，可以直接下載已經embedding好的檔案 (改執行下面的wget命令，請把#註解拿掉)\n",
        "\"\"\"\n",
        "openai.api_key = \"請輸入你自己的api-key\""
      ],
      "metadata": {
        "id": "pCWsGlF4LpSx"
      },
      "execution_count": null,
      "outputs": []
    },
    {
      "cell_type": "code",
      "source": [
        "df[\"embedding\"] = df.combined.apply(lambda x: get_embedding(x, engine=embedding_model))\n",
        "df.to_csv(\"fine_food_reviews_with_embeddings_1k.csv\")"
      ],
      "metadata": {
        "id": "ECPZ7wzdLpVL"
      },
      "execution_count": null,
      "outputs": []
    },
    {
      "cell_type": "code",
      "source": [
        "# 如果沒有api key，上一格程式不要執行，改執行下面wget命令\n",
        "#!wget https://github.com/joshhu/mustgpt2023/raw/main/Code/5/fine_food_reviews_with_embeddings_1k.csv \n",
        "     "
      ],
      "metadata": {
        "id": "aFUVcM4rL66M"
      },
      "execution_count": null,
      "outputs": []
    },
    {
      "cell_type": "code",
      "source": [
        "#將Embedding的結果繪製出來\n",
        "#先降維\n",
        "\n",
        "import pandas as pd\n",
        "from sklearn.manifold import TSNE\n",
        "import numpy as np\n",
        "\n",
        "# Load the embeddings\n",
        "datafile_path = \"fine_food_reviews_with_embeddings_1k.csv\"\n",
        "df = pd.read_csv(datafile_path)\n",
        "\n",
        "# Convert to a list of lists of floats\n",
        "matrix = np.array(df.embedding.apply(eval).to_list())\n",
        "\n",
        "# Create a t-SNE model and transform the data\n",
        "tsne = TSNE(n_components=2, perplexity=15, random_state=42, init='random', learning_rate=200)\n",
        "vis_dims = tsne.fit_transform(matrix)\n",
        "vis_dims.shape\n",
        "     "
      ],
      "metadata": {
        "id": "EYER2PUZL7AF"
      },
      "execution_count": null,
      "outputs": []
    },
    {
      "cell_type": "code",
      "source": [
        "#將Embedding的結果繪製出來\n",
        "#再畫出來\n",
        "\n",
        "import matplotlib.pyplot as plt\n",
        "import matplotlib\n",
        "import numpy as np\n",
        "\n",
        "colors = [\"red\", \"darkorange\", \"gold\", \"turquoise\", \"darkgreen\"]\n",
        "x = [x for x,y in vis_dims]\n",
        "y = [y for x,y in vis_dims]\n",
        "color_indices = df.Score.values - 1\n",
        "\n",
        "colormap = matplotlib.colors.ListedColormap(colors)\n",
        "plt.scatter(x, y, c=color_indices, cmap=colormap, alpha=0.3)\n",
        "for score in [0,1,2,3,4]:\n",
        "    avg_x = np.array(x)[df.Score-1==score].mean()\n",
        "    avg_y = np.array(y)[df.Score-1==score].mean()\n",
        "    color = colors[score]\n",
        "    plt.scatter(avg_x, avg_y, marker='x', color=color, s=100)\n",
        "\n",
        "plt.title(\"Amazon ratings visualized in language using t-SNE\")"
      ],
      "metadata": {
        "id": "uVpERWPCL7Er"
      },
      "execution_count": null,
      "outputs": []
    },
    {
      "cell_type": "code",
      "source": [
        "#使用這個embedding來做regression\n",
        "import pandas as pd\n",
        "import numpy as np\n",
        "\n",
        "from sklearn.ensemble import RandomForestRegressor\n",
        "from sklearn.model_selection import train_test_split\n",
        "from sklearn.metrics import mean_squared_error, mean_absolute_error\n",
        "\n",
        "datafile_path = \"fine_food_reviews_with_embeddings_1k.csv\"\n",
        "\n",
        "df = pd.read_csv(datafile_path)\n",
        "df[\"embedding\"] = df.embedding.apply(eval).apply(np.array)\n",
        "\n",
        "X_train, X_test, y_train, y_test = train_test_split(list(df.embedding.values), df.Score, test_size=0.2, random_state=42)\n",
        "\n",
        "rfr = RandomForestRegressor(n_estimators=100)\n",
        "rfr.fit(X_train, y_train)\n",
        "preds = rfr.predict(X_test)\n",
        "\n",
        "mse = mean_squared_error(y_test, preds)\n",
        "mae = mean_absolute_error(y_test, preds)\n",
        "\n",
        "print(f\"ada-002 embedding performance on 1k Amazon reviews: mse={mse:.2f}, mae={mae:.2f}\")"
      ],
      "metadata": {
        "id": "6TrafCpkMSve"
      },
      "execution_count": null,
      "outputs": []
    },
    {
      "cell_type": "code",
      "source": [
        "bmse = mean_squared_error(y_test, np.repeat(y_test.mean(), len(y_test)))\n",
        "bmae = mean_absolute_error(y_test, np.repeat(y_test.mean(), len(y_test)))\n",
        "print(\n",
        "    f\"Dummy mean prediction performance on Amazon reviews: mse={bmse:.2f}, mae={bmae:.2f}\"\n",
        ")"
      ],
      "metadata": {
        "id": "JdXV9Lq6MS2v"
      },
      "execution_count": null,
      "outputs": []
    },
    {
      "cell_type": "code",
      "source": [
        "#用這個embedding來作分類\n",
        "# imports\n",
        "import pandas as pd\n",
        "import numpy as np\n",
        "\n",
        "from sklearn.ensemble import RandomForestClassifier\n",
        "from sklearn.model_selection import train_test_split\n",
        "from sklearn.metrics import classification_report, accuracy_score\n",
        "\n",
        "# load data\n",
        "datafile_path = \"fine_food_reviews_with_embeddings_1k.csv\"\n",
        "\n",
        "df = pd.read_csv(datafile_path)\n",
        "df[\"embedding\"] = df.embedding.apply(eval).apply(np.array)  # convert string to array\n",
        "\n",
        "# split data into train and test\n",
        "X_train, X_test, y_train, y_test = train_test_split(\n",
        "    list(df.embedding.values), df.Score, test_size=0.2, random_state=42\n",
        ")\n",
        "\n",
        "# train random forest classifier\n",
        "clf = RandomForestClassifier(n_estimators=100)\n",
        "clf.fit(X_train, y_train)\n",
        "preds = clf.predict(X_test)\n",
        "probas = clf.predict_proba(X_test)\n",
        "\n",
        "report = classification_report(y_test, preds)\n",
        "print(report)"
      ],
      "metadata": {
        "id": "8jcWc6J7MS6o"
      },
      "execution_count": null,
      "outputs": []
    },
    {
      "cell_type": "code",
      "source": [
        "#繪製圖型\n",
        "from openai.embeddings_utils import plot_multiclass_precision_recall\n",
        "\n",
        "plot_multiclass_precision_recall(probas, y_test, [1, 2, 3, 4, 5], clf)"
      ],
      "metadata": {
        "id": "vF-PW_VUMS88"
      },
      "execution_count": null,
      "outputs": []
    },
    {
      "cell_type": "code",
      "source": [
        "#使用這個embedding來作zero-shot分類任務\n",
        "import pandas as pd\n",
        "import numpy as np\n",
        "\n",
        "from sklearn.metrics import classification_report\n",
        "\n",
        "# parameters\n",
        "EMBEDDING_MODEL = \"text-embedding-ada-002\"\n",
        "\n",
        "# load data\n",
        "datafile_path = \"fine_food_reviews_with_embeddings_1k.csv\"\n",
        "\n",
        "df = pd.read_csv(datafile_path)\n",
        "df[\"embedding\"] = df.embedding.apply(eval).apply(np.array)\n",
        "\n",
        "# convert 5-star rating to binary sentiment\n",
        "df = df[df.Score != 3]\n",
        "df[\"sentiment\"] = df.Score.replace({1: \"negative\", 2: \"negative\", 4: \"positive\", 5: \"positive\"})"
      ],
      "metadata": {
        "id": "IvygKtqaMS_A"
      },
      "execution_count": null,
      "outputs": []
    },
    {
      "cell_type": "code",
      "source": [
        "from openai.embeddings_utils import cosine_similarity, get_embedding\n",
        "from sklearn.metrics import PrecisionRecallDisplay\n",
        "\n",
        "def evaluate_embeddings_approach(\n",
        "    labels = ['negative', 'positive'], \n",
        "    model = EMBEDDING_MODEL,\n",
        "):\n",
        "    label_embeddings = [get_embedding(label, engine=model) for label in labels]\n",
        "\n",
        "    def label_score(review_embedding, label_embeddings):\n",
        "        return cosine_similarity(review_embedding, label_embeddings[1]) - cosine_similarity(review_embedding, label_embeddings[0])\n",
        "\n",
        "    probas = df[\"embedding\"].apply(lambda x: label_score(x, label_embeddings))\n",
        "    preds = probas.apply(lambda x: 'positive' if x>0 else 'negative')\n",
        "\n",
        "    report = classification_report(df.sentiment, preds)\n",
        "    print(report)\n",
        "\n",
        "    display = PrecisionRecallDisplay.from_predictions(df.sentiment, probas, pos_label='positive')\n",
        "    _ = display.ax_.set_title(\"2-class Precision-Recall curve\")\n",
        "\n",
        "evaluate_embeddings_approach(labels=['negative', 'positive'], model=EMBEDDING_MODEL)"
      ],
      "metadata": {
        "id": "6Ot3EKEsMTA9"
      },
      "execution_count": null,
      "outputs": []
    },
    {
      "cell_type": "code",
      "source": [
        "\n",
        "evaluate_embeddings_approach(labels=['An Amazon review with a negative sentiment.', 'An Amazon review with a positive sentiment.'])"
      ],
      "metadata": {
        "id": "fvX85FJCMTC_"
      },
      "execution_count": null,
      "outputs": []
    },
    {
      "cell_type": "code",
      "source": [
        "#做clustering\n",
        "# imports\n",
        "import numpy as np\n",
        "import pandas as pd\n",
        "\n",
        "# load data\n",
        "datafile_path = \"fine_food_reviews_with_embeddings_1k.csv\"\n",
        "\n",
        "df = pd.read_csv(datafile_path)\n",
        "df[\"embedding\"] = df.embedding.apply(eval).apply(np.array)  # convert string to numpy array\n",
        "matrix = np.vstack(df.embedding.values)\n",
        "matrix.shape"
      ],
      "metadata": {
        "id": "hBLeiKViMgQp"
      },
      "execution_count": null,
      "outputs": []
    },
    {
      "cell_type": "code",
      "source": [
        "\n",
        "from sklearn.cluster import KMeans\n",
        "\n",
        "n_clusters = 4\n",
        "\n",
        "kmeans = KMeans(n_clusters=n_clusters, init=\"k-means++\", random_state=42)\n",
        "kmeans.fit(matrix)\n",
        "labels = kmeans.labels_\n",
        "df[\"Cluster\"] = labels\n",
        "\n",
        "df.groupby(\"Cluster\").Score.mean().sort_values()"
      ],
      "metadata": {
        "id": "pEJONcyyMgTj"
      },
      "execution_count": null,
      "outputs": []
    },
    {
      "cell_type": "code",
      "source": [
        "from sklearn.manifold import TSNE\n",
        "import matplotlib\n",
        "import matplotlib.pyplot as plt\n",
        "\n",
        "tsne = TSNE(n_components=2, perplexity=15, random_state=42, init=\"random\", learning_rate=200)\n",
        "vis_dims2 = tsne.fit_transform(matrix)\n",
        "\n",
        "x = [x for x, y in vis_dims2]\n",
        "y = [y for x, y in vis_dims2]\n",
        "\n",
        "for category, color in enumerate([\"purple\", \"green\", \"red\", \"blue\"]):\n",
        "    xs = np.array(x)[df.Cluster == category]\n",
        "    ys = np.array(y)[df.Cluster == category]\n",
        "    plt.scatter(xs, ys, color=color, alpha=0.3)\n",
        "\n",
        "    avg_x = xs.mean()\n",
        "    avg_y = ys.mean()\n",
        "\n",
        "    plt.scatter(avg_x, avg_y, marker=\"x\", color=color, s=100)\n",
        "plt.title(\"Clusters identified visualized in language 2d using t-SNE\")"
      ],
      "metadata": {
        "id": "00Z8AY94MgWW"
      },
      "execution_count": null,
      "outputs": []
    },
    {
      "cell_type": "code",
      "source": [
        "#使用embedding做語義搜尋\n",
        "import pandas as pd\n",
        "import numpy as np\n",
        "\n",
        "datafile_path = \"fine_food_reviews_with_embeddings_1k.csv\"\n",
        "\n",
        "df = pd.read_csv(datafile_path)\n",
        "df[\"embedding\"] = df.embedding.apply(eval).apply(np.array)"
      ],
      "metadata": {
        "id": "n-QE8iCLMgaK"
      },
      "execution_count": null,
      "outputs": []
    },
    {
      "cell_type": "code",
      "source": [
        "\n",
        "from openai.embeddings_utils import get_embedding, cosine_similarity\n",
        "\n",
        "# search through the reviews for a specific product\n",
        "def search_reviews(df, product_description, n=3, pprint=True):\n",
        "    product_embedding = get_embedding(\n",
        "        product_description,\n",
        "        engine=\"text-embedding-ada-002\"\n",
        "    )\n",
        "    df[\"similarity\"] = df.embedding.apply(lambda x: cosine_similarity(x, product_embedding))\n",
        "\n",
        "    results = (\n",
        "        df.sort_values(\"similarity\", ascending=False)\n",
        "        .head(n)\n",
        "        .combined.str.replace(\"Title: \", \"\")\n",
        "        .str.replace(\"; Content:\", \": \")\n",
        "    )\n",
        "    if pprint:\n",
        "        for r in results:\n",
        "            print(r[:200])\n",
        "            print()\n",
        "    return results\n",
        "\n",
        "\n",
        "results = search_reviews(df, \"delicious beans\", n=3)"
      ],
      "metadata": {
        "id": "pI1HIfjLMgc6"
      },
      "execution_count": null,
      "outputs": []
    },
    {
      "cell_type": "code",
      "source": [
        "results = search_reviews(df, \"whole wheat pasta\", n=3)"
      ],
      "metadata": {
        "id": "YYr58mzKM1_M"
      },
      "execution_count": null,
      "outputs": []
    },
    {
      "cell_type": "code",
      "source": [
        "results = search_reviews(df, \"bad delivery\", n=1)"
      ],
      "metadata": {
        "id": "2nQztxGYM2B8"
      },
      "execution_count": null,
      "outputs": []
    },
    {
      "cell_type": "code",
      "source": [
        "results = search_reviews(df, \"spoilt\", n=1)"
      ],
      "metadata": {
        "id": "Nywa9ktPM2FE"
      },
      "execution_count": null,
      "outputs": []
    },
    {
      "cell_type": "code",
      "source": [
        "results = search_reviews(df, \"pet food\", n=2)"
      ],
      "metadata": {
        "id": "9ng1Um_lM2HX"
      },
      "execution_count": null,
      "outputs": []
    },
    {
      "cell_type": "code",
      "source": [],
      "metadata": {
        "id": "tPJIjdkMM2UW"
      },
      "execution_count": null,
      "outputs": []
    }
  ]
}